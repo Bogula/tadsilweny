{
 "cells": [
  {
   "cell_type": "code",
   "execution_count": null,
   "metadata": {},
   "outputs": [],
   "source": [
    "# You need to install the OpenSkyAPI library\n",
    "# Get it here: https://github.com/openskynetwork/opensky-api"
   ]
  },
  {
   "cell_type": "code",
   "execution_count": null,
   "metadata": {},
   "outputs": [],
   "source": [
    "# Install it\n",
    "#!pip install -e \\opensky-api-master\\python"
   ]
  },
  {
   "cell_type": "code",
   "execution_count": null,
   "metadata": {},
   "outputs": [],
   "source": [
    "from opensky_api import OpenSkyApi\n",
    "import geocoder\n",
    "import pandas as pd\n",
    "import json\n",
    "from pandas.io.json import json_normalize\n",
    "import requests"
   ]
  },
  {
   "cell_type": "code",
   "execution_count": null,
   "metadata": {},
   "outputs": [],
   "source": [
    "# Get your own Lat/Long position\n",
    "g = geocoder.ip('me')\n",
    "#print(g.latlng)"
   ]
  },
  {
   "cell_type": "code",
   "execution_count": null,
   "metadata": {},
   "outputs": [],
   "source": [
    "# Add a bounding box of 1 degree (I know that this is the lazy solution)\n",
    "\n",
    "lat1 = g.latlng[0]-0.5\n",
    "lat2 = g.latlng[0]+0.5\n",
    "# print (lat1, lat2)"
   ]
  },
  {
   "cell_type": "code",
   "execution_count": null,
   "metadata": {},
   "outputs": [],
   "source": [
    "lng1 = g.latlng[1]-0.5\n",
    "lng2 = g.latlng[1]+0.5\n",
    "# print (lng1, lng2)"
   ]
  },
  {
   "cell_type": "code",
   "execution_count": null,
   "metadata": {
    "scrolled": true
   },
   "outputs": [],
   "source": [
    "# API request\n",
    "api = OpenSkyApi()\n",
    "states = api.get_states(bbox=(lat1,lat2,lng1,lng2))\n"
   ]
  },
  {
   "cell_type": "code",
   "execution_count": null,
   "metadata": {},
   "outputs": [],
   "source": [
    "# Delete your pre-existing dataframe\n",
    "try:\n",
    "    del df\n",
    "except: Exception\n",
    "        \n",
    "    \n",
    "\n",
    "# Create your new Dataframe\n",
    "df = pd.DataFrame(columns=['longitude', 'latitude', 'velocity', 'callsign', 'origin_country', 'on_ground', 'squawk', 'vertical_rate', 'icao24'])"
   ]
  },
  {
   "cell_type": "code",
   "execution_count": null,
   "metadata": {},
   "outputs": [],
   "source": [
    "# Fill your dataframe - again, lazy solution, 'cause the read_json didn't work\n",
    "\n",
    "for s in states.states:\n",
    "    df.loc[s] = [ s.longitude, s.latitude, s.velocity, s.callsign, s.origin_country, s.on_ground, s.squawk, s.vertical_rate, s.icao24 ]\n",
    "df.reset_index(inplace=True)"
   ]
  },
  {
   "cell_type": "code",
   "execution_count": null,
   "metadata": {},
   "outputs": [],
   "source": [
    "df"
   ]
  },
  {
   "cell_type": "code",
   "execution_count": null,
   "metadata": {},
   "outputs": [],
   "source": [
    "url = \"https://ae.roplan.es/api/hex-type.php?hex=\"\n",
    "headers = {\n",
    "    'User-Agent': 'Mozilla/5.0 (iPad; U; CPU OS 3_2_1 like Mac OS X; en-us'\n",
    "}"
   ]
  },
  {
   "cell_type": "code",
   "execution_count": null,
   "metadata": {},
   "outputs": [],
   "source": [
    "# Function to get the aircraft type from ae.roplan.es\n",
    "# I know, you wouldn't need it here but I used a different website with BS4 etc\n",
    "def get_type(callsign):\n",
    "    r = requests.get(url+callsign, headers=headers)\n",
    "    return (r.text)"
   ]
  },
  {
   "cell_type": "code",
   "execution_count": null,
   "metadata": {},
   "outputs": [],
   "source": [
    "# Test it\n",
    "# get_type(\"49d027\")"
   ]
  },
  {
   "cell_type": "code",
   "execution_count": null,
   "metadata": {},
   "outputs": [],
   "source": [
    "# Add aircraft type to dataframe\n",
    "for index,row in df.iterrows():\n",
    "    df.loc[index,'type'] = get_type(row['icao24'])"
   ]
  },
  {
   "cell_type": "code",
   "execution_count": null,
   "metadata": {},
   "outputs": [],
   "source": [
    "# Filter dataframe by aircraft type\n",
    "df[df['type'].astype(str).str.contains('Boeing 737')]"
   ]
  }
 ],
 "metadata": {
  "kernelspec": {
   "display_name": "Python 3",
   "language": "python",
   "name": "python3"
  },
  "language_info": {
   "codemirror_mode": {
    "name": "ipython",
    "version": 3
   },
   "file_extension": ".py",
   "mimetype": "text/x-python",
   "name": "python",
   "nbconvert_exporter": "python",
   "pygments_lexer": "ipython3",
   "version": "3.6.4"
  }
 },
 "nbformat": 4,
 "nbformat_minor": 2
}
