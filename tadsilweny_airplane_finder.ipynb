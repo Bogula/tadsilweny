{
 "cells": [
  {
   "cell_type": "code",
   "execution_count": 28,
   "metadata": {},
   "outputs": [],
   "source": [
    "# You need to install the OpenSkyAPI library\n",
    "# Get it here: https://github.com/openskynetwork/opensky-api"
   ]
  },
  {
   "cell_type": "code",
   "execution_count": 29,
   "metadata": {},
   "outputs": [],
   "source": [
    "# Install it\n",
    "#!pip install -e ./opensky-api/python\n",
    "#!pip install geocoder\n",
    "#conda install basemap"
   ]
  },
  {
   "cell_type": "code",
   "execution_count": 30,
   "metadata": {},
   "outputs": [],
   "source": [
    "\n",
    "\n",
    "from opensky_api import OpenSkyApi\n",
    "import geocoder\n",
    "import pandas as pd\n",
    "import json\n",
    "from pandas.io.json import json_normalize\n",
    "import requests"
   ]
  },
  {
   "cell_type": "code",
   "execution_count": 31,
   "metadata": {},
   "outputs": [],
   "source": [
    "\n",
    "import os\n",
    "import conda\n",
    "\n",
    "#Fix Error on Basemap Environment Variable\n",
    "\n",
    "conda_file_dir = conda.__file__\n",
    "conda_dir = conda_file_dir.split('lib')[0]\n",
    "proj_lib = os.path.join(os.path.join(conda_dir, 'share'), 'proj')\n",
    "os.environ[\"PROJ_LIB\"] = proj_lib\n",
    "\n",
    "\n",
    "from mpl_toolkits.basemap import Basemap\n",
    "import matplotlib.pyplot as plt\n",
    "import numpy as np\n",
    "%matplotlib inline  \n",
    "import warnings\n",
    "import matplotlib.cbook\n",
    "\n"
   ]
  },
  {
   "cell_type": "code",
   "execution_count": 32,
   "metadata": {
    "scrolled": true
   },
   "outputs": [],
   "source": [
    "# API request\n",
    "#latmin latmax lngmin lngmax\n",
    "# generous rectangle around Germany (Novatim Server)\n",
    "\n",
    "api = OpenSkyApi()\n",
    "states = api.get_states(bbox=(47.2701114,55.099161,5.8663153,15.0419319))\n"
   ]
  },
  {
   "cell_type": "code",
   "execution_count": 33,
   "metadata": {},
   "outputs": [],
   "source": [
    "# Delete your pre-existing dataframe\n",
    "try:\n",
    "    del df\n",
    "except: Exception\n",
    "\n",
    "        \n",
    "\n",
    "# Create your new Dataframe\n",
    "df = pd.DataFrame(columns=['longitude', 'latitude', 'velocity', 'callsign', 'origin_country', 'on_ground', 'squawk', 'vertical_rate', 'icao24'])"
   ]
  },
  {
   "cell_type": "code",
   "execution_count": 34,
   "metadata": {},
   "outputs": [],
   "source": [
    "# Fill your dataframe - again, lazy solution, 'cause the read_json didn't work\n",
    "\n",
    "\n",
    "for s in states.states:\n",
    "    df.loc[s] = [ s.longitude, s.latitude, s.velocity, s.callsign, s.origin_country, s.on_ground, s.squawk, s.vertical_rate, s.icao24 ]\n",
    "df.reset_index(inplace=True)"
   ]
  },
  {
   "cell_type": "code",
   "execution_count": 43,
   "metadata": {},
   "outputs": [],
   "source": [
    "#print('All Planes in the Sky over Germany')\n",
    "#df"
   ]
  },
  {
   "cell_type": "code",
   "execution_count": 44,
   "metadata": {},
   "outputs": [],
   "source": [
    "url = \"https://ae.roplan.es/api/hex-type.php?hex=\"\n",
    "headers = {\n",
    "    'User-Agent': 'Mozilla/5.0 (iPad; U; CPU OS 3_2_1 like Mac OS X; en-us'\n",
    "}"
   ]
  },
  {
   "cell_type": "code",
   "execution_count": 45,
   "metadata": {},
   "outputs": [],
   "source": [
    "# Function to get the aircraft type from ae.roplan.es\n",
    "# I know, you wouldn't need it here but I used a different website with BS4 etc\n",
    "def get_type(callsign):\n",
    "    r = requests.get(url+callsign, headers=headers)\n",
    "    return (r.text)"
   ]
  },
  {
   "cell_type": "code",
   "execution_count": 46,
   "metadata": {},
   "outputs": [],
   "source": [
    "# Test it\n",
    "# get_type(\"49d027\")"
   ]
  },
  {
   "cell_type": "code",
   "execution_count": 47,
   "metadata": {},
   "outputs": [],
   "source": [
    "# Add aircraft type to dataframe\n",
    "for index,row in df.iterrows():\n",
    "    df.loc[index,'type'] = get_type(row['icao24'])"
   ]
  },
  {
   "cell_type": "code",
   "execution_count": 48,
   "metadata": {},
   "outputs": [],
   "source": [
    "# Filter dataframe by aircraft type\n",
    "result = df[df['type'].astype(str).str.contains('Boeing 737')]"
   ]
  },
  {
   "cell_type": "code",
   "execution_count": null,
   "metadata": {},
   "outputs": [],
   "source": [
    "# Get your own Lat/Long position\n",
    "g = geocoder.ip('me')\n",
    "#print(g.latlng)\n",
    "\n",
    "fig = plt.figure(figsize=(8, 10))\n",
    "\n",
    "m = Basemap(width=770000, height=909000,\n",
    "            resolution=None, projection='lcc',\n",
    "            lon_0=11, lat_0=51.5)\n",
    "\n",
    "\n",
    "m.shadedrelief()\n",
    "\n",
    "\n",
    "for index, row in result.iterrows():\n",
    "    print(row['longitude'], row['latitude'], row['callsign'])\n",
    "    x, y = m(row['longitude'], row['latitude'])\n",
    "    plt.plot(x-4, y, 'o', markersize=12)\n",
    "    plt.text(x, y, row['callsign'], fontsize=12);\n",
    "    \n",
    "    x, y = m(9.99,53.5)\n",
    "    plt.plot(x-1, y, '+', markersize=12)\n",
    "    plt.text(x, y, 'Hamburg', fontsize=12);\n",
    "\n",
    "    x, y = m(9.73828,52.37443)\n",
    "    plt.plot(x-1, y, '+', markersize=12)\n",
    "    plt.text(x, y, 'Hannover', fontsize=12);\n",
    "    \n",
    "    x, y = m(11.55915,48.14128)\n",
    "    plt.plot(x-1, y, '+', markersize=12)\n",
    "    plt.text(x, y, 'München', fontsize=12);\n",
    "    \n",
    "    x, y = m(13.29386,52.60021)\n",
    "    plt.plot(x-1, y, '+', markersize=12)\n",
    "    plt.text(x, y, 'Berlin', fontsize=12);\n",
    "    \n",
    "   \n",
    "    \n",
    "    \n",
    "    \n"
   ]
  },
  {
   "cell_type": "code",
   "execution_count": null,
   "metadata": {},
   "outputs": [],
   "source": []
  },
  {
   "cell_type": "code",
   "execution_count": null,
   "metadata": {},
   "outputs": [],
   "source": []
  },
  {
   "cell_type": "code",
   "execution_count": null,
   "metadata": {},
   "outputs": [],
   "source": []
  }
 ],
 "metadata": {
  "kernelspec": {
   "display_name": "Python 3",
   "language": "python",
   "name": "python3"
  },
  "language_info": {
   "codemirror_mode": {
    "name": "ipython",
    "version": 3
   },
   "file_extension": ".py",
   "mimetype": "text/x-python",
   "name": "python",
   "nbconvert_exporter": "python",
   "pygments_lexer": "ipython3",
   "version": "3.7.1"
  }
 },
 "nbformat": 4,
 "nbformat_minor": 2
}
